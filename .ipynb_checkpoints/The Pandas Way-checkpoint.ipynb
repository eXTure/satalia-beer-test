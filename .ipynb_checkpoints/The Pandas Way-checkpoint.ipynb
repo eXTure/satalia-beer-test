{
 "cells": [
  {
   "cell_type": "code",
   "execution_count": 5,
   "metadata": {
    "ExecuteTime": {
     "end_time": "2020-01-23T17:44:34.408163Z",
     "start_time": "2020-01-23T17:44:34.405171Z"
    }
   },
   "outputs": [],
   "source": [
    "import pandas as pd\n",
    "from math import radians, cos, sin, asin, sqrt"
   ]
  },
  {
   "cell_type": "code",
   "execution_count": 6,
   "metadata": {
    "ExecuteTime": {
     "end_time": "2020-01-23T18:13:38.588400Z",
     "start_time": "2020-01-23T18:13:38.549504Z"
    }
   },
   "outputs": [],
   "source": [
    "beers_df = pd.read_csv('beers.csv', index_col=1)\n",
    "breweries_df = pd.read_csv('breweries.csv', index_col=0)\n",
    "geocodes_df = pd.read_csv('geocodes.csv', index_col=1)"
   ]
  },
  {
   "cell_type": "code",
   "execution_count": 7,
   "metadata": {
    "ExecuteTime": {
     "end_time": "2020-01-23T17:44:35.346475Z",
     "start_time": "2020-01-23T17:44:35.341509Z"
    }
   },
   "outputs": [],
   "source": [
    "def haversine(lat1, lon1, lat2, lon2):\n",
    "    \"\"\"\n",
    "    Calculate the great circle distance between two points\n",
    "    on the earth (specified in decimal degrees)\n",
    "    \"\"\"\n",
    "    # convert decimal degrees to radians\n",
    "    lon1, lat1, lon2, lat2 = map(radians, [lon1, lat1, lon2, lat2])\n",
    "\n",
    "    # haversine formula\n",
    "    dlon = lon2 - lon1\n",
    "    dlat = lat2 - lat1\n",
    "    a = sin(dlat/2)**2 + cos(lat1) * cos(lat2) * sin(dlon/2)**2\n",
    "    c = 2 * asin(sqrt(a))\n",
    "    r = 6371 # Radius of earth in kilometers.\n",
    "    return int(c * r)"
   ]
  },
  {
   "cell_type": "code",
   "execution_count": 8,
   "metadata": {
    "ExecuteTime": {
     "end_time": "2020-01-23T18:43:13.714976Z",
     "start_time": "2020-01-23T18:43:13.709968Z"
    }
   },
   "outputs": [],
   "source": [
    "# Add a start location to geocodes\n",
    "geocodes_df.loc[0] = [0, 29.938601,-90.07599, None]"
   ]
  },
  {
   "cell_type": "code",
   "execution_count": 15,
   "metadata": {
    "ExecuteTime": {
     "end_time": "2020-01-23T18:43:15.515298Z",
     "start_time": "2020-01-23T18:43:15.229063Z"
    }
   },
   "outputs": [],
   "source": [
    "# def magic(x, start_id):\n",
    "#     \"\"\"Calculate distance based on start id\"\"\"\n",
    "#     start_location = geocodes_df.loc[start_id]\n",
    "#     lat, lon = start_location.latitude, start_location.longitude\n",
    "#     distance = haversine(lat, lon, x.latitude, x.longitude)\n",
    "#     return distance\n",
    "# start_id = 0\n",
    "# geocodes_df.apply(magic, args=(start_id,), axis=1)"
   ]
  },
  {
   "cell_type": "code",
   "execution_count": 25,
   "metadata": {},
   "outputs": [],
   "source": [
    "start_lat, start_lon = (52.527672, 23.693345)"
   ]
  },
  {
   "cell_type": "code",
   "execution_count": 26,
   "metadata": {
    "ExecuteTime": {
     "end_time": "2020-01-23T18:58:03.407106Z",
     "start_time": "2020-01-23T18:58:03.366239Z"
    }
   },
   "outputs": [
    {
     "data": {
      "text/plain": [
       "307"
      ]
     },
     "execution_count": 26,
     "metadata": {},
     "output_type": "execute_result"
    }
   ],
   "source": [
    "def magic(x, lat, lon):\n",
    "    \"\"\"Calculate distance based on lat lon of start point\"\"\"\n",
    "    distance = haversine(lat, lon, x.latitude, x.longitude)\n",
    "    return distance\n",
    "new_distances = geocodes_df.apply(magic, args=(start_lat, start_lon), axis=1)\n",
    "#new_distances.index.name = 'y_id'\n",
    "#new_distances.name = 'distance'\n",
    "new_distances.idxmin(3)\n",
    "#new_distances.head(3)"
   ]
  },
  {
   "cell_type": "code",
   "execution_count": 27,
   "metadata": {
    "ExecuteTime": {
     "end_time": "2020-01-23T18:58:26.104399Z",
     "start_time": "2020-01-23T18:58:26.101407Z"
    }
   },
   "outputs": [],
   "source": [
    "travel_route = []"
   ]
  },
  {
   "cell_type": "code",
   "execution_count": 28,
   "metadata": {
    "ExecuteTime": {
     "end_time": "2020-01-23T18:58:51.832738Z",
     "start_time": "2020-01-23T18:58:51.829719Z"
    }
   },
   "outputs": [],
   "source": [
    "visiting_id = new_distances.idxmin()\n",
    "travel_route.append(visiting_id)"
   ]
  },
  {
   "cell_type": "code",
   "execution_count": 29,
   "metadata": {},
   "outputs": [
    {
     "data": {
      "text/plain": [
       "[307]"
      ]
     },
     "execution_count": 29,
     "metadata": {},
     "output_type": "execute_result"
    }
   ],
   "source": [
    "travel_route"
   ]
  },
  {
   "cell_type": "code",
   "execution_count": 163,
   "metadata": {
    "ExecuteTime": {
     "end_time": "2020-01-23T18:58:53.253023Z",
     "start_time": "2020-01-23T18:58:53.247064Z"
    }
   },
   "outputs": [],
   "source": [
    "geocodes_df.loc[visiting_id,'visited'] = True"
   ]
  },
  {
   "cell_type": "code",
   "execution_count": 164,
   "metadata": {
    "ExecuteTime": {
     "end_time": "2020-01-23T18:59:19.348986Z",
     "start_time": "2020-01-23T18:59:19.286125Z"
    }
   },
   "outputs": [
    {
     "data": {
      "text/html": [
       "<div>\n",
       "<style scoped>\n",
       "    .dataframe tbody tr th:only-of-type {\n",
       "        vertical-align: middle;\n",
       "    }\n",
       "\n",
       "    .dataframe tbody tr th {\n",
       "        vertical-align: top;\n",
       "    }\n",
       "\n",
       "    .dataframe thead th {\n",
       "        text-align: right;\n",
       "    }\n",
       "</style>\n",
       "<table border=\"1\" class=\"dataframe\">\n",
       "  <thead>\n",
       "    <tr style=\"text-align: right;\">\n",
       "      <th></th>\n",
       "      <th>id</th>\n",
       "      <th>latitude</th>\n",
       "      <th>longitude</th>\n",
       "      <th>accuracy</th>\n",
       "      <th>visited</th>\n",
       "    </tr>\n",
       "    <tr>\n",
       "      <th>y_id</th>\n",
       "      <th></th>\n",
       "      <th></th>\n",
       "      <th></th>\n",
       "      <th></th>\n",
       "      <th></th>\n",
       "    </tr>\n",
       "  </thead>\n",
       "  <tbody>\n",
       "    <tr>\n",
       "      <td>1107</td>\n",
       "      <td>1046.0</td>\n",
       "      <td>36.974098</td>\n",
       "      <td>-122.030998</td>\n",
       "      <td>APPROXIMATE</td>\n",
       "      <td>True</td>\n",
       "    </tr>\n",
       "  </tbody>\n",
       "</table>\n",
       "</div>"
      ],
      "text/plain": [
       "          id   latitude   longitude     accuracy visited\n",
       "y_id                                                    \n",
       "1107  1046.0  36.974098 -122.030998  APPROXIMATE    True"
      ]
     },
     "execution_count": 164,
     "metadata": {},
     "output_type": "execute_result"
    }
   ],
   "source": [
    "geocodes_df.query('visited == True')"
   ]
  },
  {
   "cell_type": "markdown",
   "metadata": {},
   "source": [
    "# Distances df for potential storing of distances between many locations"
   ]
  },
  {
   "cell_type": "code",
   "execution_count": null,
   "metadata": {},
   "outputs": [],
   "source": [
    "#\n",
    "distance_df = pd.DataFrame(columns=['x_id', 'y_id', 'distance','visited','too_far'], data=[[1,3,13123,False, True]])\n",
    "distance_df\n"
   ]
  },
  {
   "cell_type": "markdown",
   "metadata": {},
   "source": [
    "# On testing"
   ]
  },
  {
   "cell_type": "code",
   "execution_count": 151,
   "metadata": {
    "ExecuteTime": {
     "end_time": "2020-01-23T18:52:36.589495Z",
     "start_time": "2020-01-23T18:52:36.581517Z"
    }
   },
   "outputs": [
    {
     "data": {
      "text/html": [
       "<div>\n",
       "<style scoped>\n",
       "    .dataframe tbody tr th:only-of-type {\n",
       "        vertical-align: middle;\n",
       "    }\n",
       "\n",
       "    .dataframe tbody tr th {\n",
       "        vertical-align: top;\n",
       "    }\n",
       "\n",
       "    .dataframe thead th {\n",
       "        text-align: right;\n",
       "    }\n",
       "</style>\n",
       "<table border=\"1\" class=\"dataframe\">\n",
       "  <thead>\n",
       "    <tr style=\"text-align: right;\">\n",
       "      <th></th>\n",
       "      <th>Distance</th>\n",
       "    </tr>\n",
       "  </thead>\n",
       "  <tbody>\n",
       "    <tr>\n",
       "      <td>2</td>\n",
       "      <td>14429</td>\n",
       "    </tr>\n",
       "  </tbody>\n",
       "</table>\n",
       "</div>"
      ],
      "text/plain": [
       "   Distance\n",
       "2     14429"
      ]
     },
     "execution_count": 151,
     "metadata": {},
     "output_type": "execute_result"
    }
   ],
   "source": [
    "#input\n",
    "geocodes_df.loc[1]\n",
    "next_loc = (1,23)\n",
    "#output\n",
    "pvz_df = pd.DataFrame(data=[[14429]], index=[2], columns=['Distance'])\n",
    "pvz_df"
   ]
  },
  {
   "cell_type": "markdown",
   "metadata": {},
   "source": [
    "# Other"
   ]
  },
  {
   "cell_type": "code",
   "execution_count": 30,
   "metadata": {},
   "outputs": [
    {
     "data": {
      "text/html": [
       "<div>\n",
       "<style scoped>\n",
       "    .dataframe tbody tr th:only-of-type {\n",
       "        vertical-align: middle;\n",
       "    }\n",
       "\n",
       "    .dataframe tbody tr th {\n",
       "        vertical-align: top;\n",
       "    }\n",
       "\n",
       "    .dataframe thead th {\n",
       "        text-align: right;\n",
       "    }\n",
       "</style>\n",
       "<table border=\"1\" class=\"dataframe\">\n",
       "  <thead>\n",
       "    <tr style=\"text-align: right;\">\n",
       "      <th></th>\n",
       "      <th>latitude</th>\n",
       "      <th>longitude</th>\n",
       "    </tr>\n",
       "    <tr>\n",
       "      <th>y_id</th>\n",
       "      <th></th>\n",
       "      <th></th>\n",
       "    </tr>\n",
       "  </thead>\n",
       "  <tbody>\n",
       "    <tr>\n",
       "      <th>0</th>\n",
       "      <td>29.938601</td>\n",
       "      <td>-90.075990</td>\n",
       "    </tr>\n",
       "    <tr>\n",
       "      <th>1</th>\n",
       "      <td>30.223400</td>\n",
       "      <td>-97.769699</td>\n",
       "    </tr>\n",
       "  </tbody>\n",
       "</table>\n",
       "</div>"
      ],
      "text/plain": [
       "       latitude  longitude\n",
       "y_id                      \n",
       "0     29.938601 -90.075990\n",
       "1     30.223400 -97.769699"
      ]
     },
     "execution_count": 30,
     "metadata": {},
     "output_type": "execute_result"
    }
   ],
   "source": [
    "# # Get lat lon of two locations based on id\n",
    "# x_id = 0\n",
    "# y_id = 1\n",
    "# data = geocodes_df.loc[[0,1],['latitude','longitude']]\n",
    "# x,y = data.values\n",
    "# x_lat, x_lon = x\n",
    "# y_lat, y_lon = y\n",
    "# haversine(x_lat, x_lon, y_lat, y_lon)\n",
    "# data"
   ]
  }
 ],
 "metadata": {
  "kernelspec": {
   "display_name": "Python 3",
   "language": "python",
   "name": "python3"
  },
  "language_info": {
   "codemirror_mode": {
    "name": "ipython",
    "version": 3
   },
   "file_extension": ".py",
   "mimetype": "text/x-python",
   "name": "python",
   "nbconvert_exporter": "python",
   "pygments_lexer": "ipython3",
   "version": "3.7.3"
  },
  "varInspector": {
   "cols": {
    "lenName": 16,
    "lenType": 16,
    "lenVar": 40
   },
   "kernels_config": {
    "python": {
     "delete_cmd_postfix": "",
     "delete_cmd_prefix": "del ",
     "library": "var_list.py",
     "varRefreshCmd": "print(var_dic_list())"
    },
    "r": {
     "delete_cmd_postfix": ") ",
     "delete_cmd_prefix": "rm(",
     "library": "var_list.r",
     "varRefreshCmd": "cat(var_dic_list()) "
    }
   },
   "types_to_exclude": [
    "module",
    "function",
    "builtin_function_or_method",
    "instance",
    "_Feature"
   ],
   "window_display": false
  }
 },
 "nbformat": 4,
 "nbformat_minor": 2
}
