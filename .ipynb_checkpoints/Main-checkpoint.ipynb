{
 "cells": [
  {
   "cell_type": "code",
   "execution_count": 10,
   "metadata": {},
   "outputs": [],
   "source": [
    "import pandas as pd\n",
    "import geopandas as gpd\n",
    "import sqlite3, fiona\n",
    "from math import radians, cos, sin, asin, sqrt"
   ]
  },
  {
   "cell_type": "code",
   "execution_count": 5,
   "metadata": {},
   "outputs": [],
   "source": [
    "def haversine(lat1, lon1, lat2, lon2):\n",
    "    \"\"\"\n",
    "    Calculate the great circle distance between two points\n",
    "    on the earth (specified in decimal degrees)\n",
    "    \"\"\"\n",
    "    # convert decimal degrees to radians\n",
    "    lon1, lat1, lon2, lat2 = map(radians, [lon1, lat1, lon2, lat2])\n",
    "\n",
    "    # haversine formula\n",
    "    dlon = lon2 - lon1\n",
    "    dlat = lat2 - lat1\n",
    "    a = sin(dlat/2)**2 + cos(lat1) * cos(lat2) * sin(dlon/2)**2\n",
    "    c = 2 * asin(sqrt(a))\n",
    "    r = 6371 # Radius of earth in kilometers.\n",
    "    return int(c * r)"
   ]
  },
  {
   "cell_type": "code",
   "execution_count": 6,
   "metadata": {},
   "outputs": [],
   "source": [
    "def apply_haversine(x, lat, lon):\n",
    "    \"\"\"Calculate distance based on 2 coordinates\"\"\"\n",
    "    if x.Visited==False:\n",
    "        distance = haversine(lat, lon, x.latitude, x.longitude)\n",
    "    else:\n",
    "        distance = None\n",
    "    return distance"
   ]
  },
  {
   "cell_type": "code",
   "execution_count": 7,
   "metadata": {},
   "outputs": [],
   "source": [
    "#geocodes_df.loc[639, ['latitude', 'longitude']].values"
   ]
  },
  {
   "cell_type": "code",
   "execution_count": 8,
   "metadata": {},
   "outputs": [],
   "source": [
    "lati, longi = 53.474370, 21.749222"
   ]
  },
  {
   "cell_type": "code",
   "execution_count": 9,
   "metadata": {},
   "outputs": [
    {
     "name": "stdout",
     "output_type": "stream",
     "text": [
      "  brewery_id\n",
      "0        309\n",
      "1        307\n",
      "2        465\n",
      "3        996\n",
      "4        958\n",
      "5        995\n",
      "6        993\n",
      "7        990 1870.0\n"
     ]
    }
   ],
   "source": [
    "beers_df = pd.read_csv('beers.csv', index_col=1)\n",
    "breweries_df = pd.read_csv('breweries.csv', index_col=1)\n",
    "geocodes_df = pd.read_csv('geocodes.csv', index_col=1)\n",
    "geocodes_df['Visited']=False\n",
    "beer_count_df = pd.Index(beers_df.index).value_counts().to_frame()\n",
    "\n",
    "start_lat = lati\n",
    "start_lon = longi\n",
    "lat = start_lat\n",
    "lon = start_lon\n",
    "haversine_df = pd.DataFrame()\n",
    "travel_df = pd.DataFrame(columns=['brewery_id'])\n",
    "current_distance = 0\n",
    "total_distance = 0\n",
    "isComplete = True\n",
    "\n",
    "while isComplete:\n",
    "    haversine_df = geocodes_df.apply(apply_haversine, args=(lat, lon), axis=1)\n",
    "    compare_min_df = haversine_df.nsmallest(2)\n",
    "    first_loc_beer_count = int(beer_count_df.loc[compare_min_df[:1]].values)\n",
    "    second_loc_beer_count = int(beer_count_df.loc[compare_min_df[1:]].values)\n",
    "    \n",
    "    #If second location has more types of beer AND is not futher than closest loaction distance*2\n",
    "    if(second_loc_beer_count>first_loc_beer_count) and (int(compare_min_df[1:])<(int(compare_min_df[:1]))*2):\n",
    "        min_id = int(compare_min_df[1:].index[0])\n",
    "    else:\n",
    "        min_id = haversine_df.idxmin(skipna=True)\n",
    "        \n",
    "    lat, lon = geocodes_df.loc[min_id, ['latitude', 'longitude']]\n",
    "    distance_to_start = haversine(start_lat, start_lon, lat, lon)\n",
    "    current_distance+=haversine_df[min_id]\n",
    "    total_distance = current_distance + distance_to_start\n",
    "    \n",
    "    if total_distance < 2000:\n",
    "        travel_df = travel_df.append(pd.Series([min_id], index=travel_df.columns ), ignore_index=True)\n",
    "        geocodes_df.loc[min_id, 'Visited']=True\n",
    "    else:\n",
    "        lat, lon = geocodes_df.loc[int(travel_df.tail(1).values), ['latitude', 'longitude']]\n",
    "        distance_to_start = haversine(start_lat, start_lon, lat, lon)\n",
    "        current_distance-=haversine_df[min_id]\n",
    "        total_distance = current_distance + distance_to_start\n",
    "        isComplete = False\n",
    "        \n",
    "\n",
    "print(travel_df, total_distance)"
   ]
  },
  {
   "cell_type": "code",
   "execution_count": null,
   "metadata": {},
   "outputs": [],
   "source": []
  }
 ],
 "metadata": {
  "kernelspec": {
   "display_name": "Python 3",
   "language": "python",
   "name": "python3"
  },
  "language_info": {
   "codemirror_mode": {
    "name": "ipython",
    "version": 3
   },
   "file_extension": ".py",
   "mimetype": "text/x-python",
   "name": "python",
   "nbconvert_exporter": "python",
   "pygments_lexer": "ipython3",
   "version": "3.7.4"
  }
 },
 "nbformat": 4,
 "nbformat_minor": 2
}
