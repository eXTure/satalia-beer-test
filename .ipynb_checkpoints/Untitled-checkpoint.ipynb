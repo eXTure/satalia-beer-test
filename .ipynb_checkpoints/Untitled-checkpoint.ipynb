{
 "cells": [
  {
   "cell_type": "code",
   "execution_count": 1,
   "metadata": {},
   "outputs": [
    {
     "name": "stdout",
     "output_type": "stream",
     "text": [
      "Requirement already satisfied: pandas in c:\\users\\tomas\\.virtualenvs\\satalia-beer-test-bnawxm2y\\lib\\site-packages (0.25.3)\n",
      "Requirement already satisfied: python-dateutil>=2.6.1 in c:\\users\\tomas\\.virtualenvs\\satalia-beer-test-bnawxm2y\\lib\\site-packages (from pandas) (2.8.1)\n",
      "Requirement already satisfied: numpy>=1.13.3 in c:\\users\\tomas\\.virtualenvs\\satalia-beer-test-bnawxm2y\\lib\\site-packages (from pandas) (1.17.4)\n",
      "Requirement already satisfied: pytz>=2017.2 in c:\\users\\tomas\\.virtualenvs\\satalia-beer-test-bnawxm2y\\lib\\site-packages (from pandas) (2019.3)\n",
      "Requirement already satisfied: six>=1.5 in c:\\users\\tomas\\.virtualenvs\\satalia-beer-test-bnawxm2y\\lib\\site-packages (from python-dateutil>=2.6.1->pandas) (1.13.0)\n"
     ]
    }
   ],
   "source": [
    "!pip install pandas"
   ]
  },
  {
   "cell_type": "code",
   "execution_count": 2,
   "metadata": {},
   "outputs": [],
   "source": [
    "import pandas as pd\n",
    "import sqlite3\n",
    "from math import radians, cos, sin, asin, sqrt"
   ]
  },
  {
   "cell_type": "code",
   "execution_count": 3,
   "metadata": {},
   "outputs": [],
   "source": [
    "beers_df = pd.read_csv('beers.csv', index_col=0)\n",
    "breweries_df = pd.read_csv('breweries.csv', index_col=0)\n",
    "geocodes_df = pd.read_csv('geocodes.csv', index_col=0)\n",
    "conn = sqlite3.connect('beer.db')\n",
    "c = conn.cursor()"
   ]
  },
  {
   "cell_type": "code",
   "execution_count": 4,
   "metadata": {},
   "outputs": [],
   "source": [
    "def haversine(lat1, lon1, lat2, lon2):\n",
    "    \"\"\"\n",
    "    Calculate the great circle distance between two points\n",
    "    on the earth (specified in decimal degrees)\n",
    "    \"\"\"\n",
    "    # convert decimal degrees to radians\n",
    "    lon1, lat1, lon2, lat2 = map(radians, [lon1, lat1, lon2, lat2])\n",
    "\n",
    "    # haversine formula\n",
    "    dlon = lon2 - lon1\n",
    "    dlat = lat2 - lat1\n",
    "    a = sin(dlat/2)**2 + cos(lat1) * cos(lat2) * sin(dlon/2)**2\n",
    "    c = 2 * asin(sqrt(a))\n",
    "    r = 6371 # Radius of earth in kilometers.\n",
    "    return int(c * r)"
   ]
  },
  {
   "cell_type": "code",
   "execution_count": 5,
   "metadata": {},
   "outputs": [],
   "source": [
    "def magic(x, lat, lon):\n",
    "    \"\"\"Calculate distance based on 2 coordinates\"\"\"\n",
    "    distance = haversine(lat, lon, x.latitude, x.longitude)\n",
    "    return distance"
   ]
  },
  {
   "cell_type": "code",
   "execution_count": 21,
   "metadata": {},
   "outputs": [
    {
     "data": {
      "text/plain": [
       "array([51.26150131225586, 9.449399948120117], dtype=object)"
      ]
     },
     "execution_count": 21,
     "metadata": {},
     "output_type": "execute_result"
    }
   ],
   "source": [
    "geocodes_df.loc[639, ['latitude', 'longitude']].values"
   ]
  },
  {
   "cell_type": "code",
   "execution_count": 22,
   "metadata": {},
   "outputs": [
    {
     "data": {
      "text/plain": [
       "brewery_id                 681\n",
       "latitude               51.2615\n",
       "longitude               9.4494\n",
       "accuracy      GEOMETRIC_CENTER\n",
       "Name: 639, dtype: object"
      ]
     },
     "execution_count": 22,
     "metadata": {},
     "output_type": "execute_result"
    }
   ],
   "source": [
    "geocodes_df.loc[639]"
   ]
  },
  {
   "cell_type": "code",
   "execution_count": 13,
   "metadata": {},
   "outputs": [],
   "source": [
    "def main(lati, longi):\n",
    "\n",
    "    start_lat = lati\n",
    "    start_lon = longi\n",
    "\n",
    "    lat = start_lat\n",
    "    lon = start_lon\n",
    "    current_min = 0\n",
    "    haversine_df = pd.DataFrame()#columns='haversine')\n",
    "    travel_list = []\n",
    "    travel_list_sum = 0\n",
    "    current_distance = 0\n",
    "    already_visited = []\n",
    "    isComplete = True\n",
    "    \n",
    "    #new_distances.index.name = 'y_id'\n",
    "    #new_distances.name = 'distance'\n",
    "    #new_distances.head(3)\n",
    "    #travel_route = []\n",
    "    #visiting_id = new_distances.idxmin()\n",
    "    #travel_route.append(visiting_id)\n",
    "    #travel_route\n",
    "    #geocodes_df.loc[visiting_id,'visited'] = True\n",
    "    #geocodes_df.query('visited == True')\n",
    "    \n",
    "    while isComplete:\n",
    "        haversine_df = geocodes_df.apply(magic, args=(lat, lon), axis=1)\n",
    "        min_id = haversine_df.idxmin()\n",
    "        for i in already_visited:\n",
    "            #print('i, min_id', i, min_id)\n",
    "            if i==min_id:\n",
    "                try:\n",
    "                    haversine_df.drop(labels=min_id, axis=0, inplace=True)\n",
    "                except KeyError:\n",
    "                    print('')\n",
    "            else:\n",
    "                continue\n",
    "        min_id = haversine_df.idxmin()\n",
    "        travel_list.append(min_id)\n",
    "        already_visited.append(min_id)\n",
    "        lat, lon = geocodes_df.loc[min_id, ['latitude', 'longitude']]\n",
    "        distance_to_start = haversine(start_lat, start_lon, lat, lon)\n",
    "        #print(haversine_df[min_id])\n",
    "        current_distance+=haversine_df[min_id]\n",
    "        total_distance = distance_to_start + current_distance\n",
    "        #print('travel_list, total_distance', travel_list, total_distance)\n",
    "        if total_distance>=2000:\n",
    "            isComplete = False\n",
    "#         for id, lat1, lon1 in c.execute(\"SELECT brewery_id, latitude, longitude FROM geocodes\"):\n",
    "#             if id not in already_visited:\n",
    "#                 haversine_df.append([haversine(float(lat), float(lon), float(lat1), float(lon1)), id])\n",
    "#             else:\n",
    "#                 continue\n",
    "#         current_min = sorted(haversine_list)[0] #optimize(haversine_list)\n",
    "#         lat = geocodes_df.loc[geocodes_df.index.intersection(current_min[1])]\n",
    "#         #lat = geocodes_df[['latitude', current_min[1]]]\n",
    "#         lon = geocodes_df.loc[[current_min[1], 'longitude']]\n",
    "#         #lon = geocodes_df[['longitude', current_min[1]]]\n",
    "#         print(lat, lon)\n",
    "#         already_visited.append(current_min[1])\n",
    "#         distance_to_start = haversine(float(lat), float(lon), float(start_lat), float(start_lon))\n",
    "\n",
    "#         #Add current location to the travel list\n",
    "#         if (travel_list_sum + current_min[0] + distance_to_start) < 2000:\n",
    "#             travel_list.append(current_min)\n",
    "#             sum = 0\n",
    "#             for hav, id in travel_list:\n",
    "#                 sum+=hav\n",
    "#             travel_list_sum = sum\n",
    "#         else:\n",
    "#             break\n",
    "#         haversine_df = pd.DataFrame()\n",
    "    print(travel_list, distance_to_start)"
   ]
  },
  {
   "cell_type": "code",
   "execution_count": 15,
   "metadata": {},
   "outputs": [
    {
     "name": "stdout",
     "output_type": "stream",
     "text": [
      "\n",
      "\n",
      "\n",
      "\n",
      "\n",
      "\n",
      "\n",
      "\n",
      "\n",
      "\n",
      "\n",
      "\n",
      "\n",
      "\n",
      "\n",
      "\n",
      "\n",
      "\n",
      "\n",
      "\n",
      "\n",
      "\n",
      "\n",
      "\n",
      "\n",
      "\n",
      "\n",
      "\n",
      "\n",
      "\n",
      "\n",
      "\n",
      "\n",
      "\n",
      "\n",
      "\n",
      "[287, 288, 287, 288, 287, 288, 287, 288, 287, 288, 287, 288, 287, 288] 448\n"
     ]
    }
   ],
   "source": [
    "main(52.527672, 23.693345)"
   ]
  },
  {
   "cell_type": "code",
   "execution_count": null,
   "metadata": {},
   "outputs": [],
   "source": []
  },
  {
   "cell_type": "code",
   "execution_count": null,
   "metadata": {},
   "outputs": [],
   "source": []
  },
  {
   "cell_type": "code",
   "execution_count": null,
   "metadata": {},
   "outputs": [],
   "source": []
  },
  {
   "cell_type": "code",
   "execution_count": null,
   "metadata": {},
   "outputs": [],
   "source": []
  }
 ],
 "metadata": {
  "kernelspec": {
   "display_name": "Python 3",
   "language": "python",
   "name": "python3"
  },
  "language_info": {
   "codemirror_mode": {
    "name": "ipython",
    "version": 3
   },
   "file_extension": ".py",
   "mimetype": "text/x-python",
   "name": "python",
   "nbconvert_exporter": "python",
   "pygments_lexer": "ipython3",
   "version": "3.7.3"
  }
 },
 "nbformat": 4,
 "nbformat_minor": 2
}
