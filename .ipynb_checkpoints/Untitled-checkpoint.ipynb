{
 "cells": [
  {
   "cell_type": "code",
   "execution_count": 12,
   "metadata": {},
   "outputs": [
    {
     "name": "stdout",
     "output_type": "stream",
     "text": [
      "Requirement already satisfied: pandas in c:\\users\\tomas\\.virtualenvs\\satalia-beer-test-bnawxm2y\\lib\\site-packages (0.25.3)\n",
      "Requirement already satisfied: python-dateutil>=2.6.1 in c:\\users\\tomas\\.virtualenvs\\satalia-beer-test-bnawxm2y\\lib\\site-packages (from pandas) (2.8.1)\n",
      "Requirement already satisfied: numpy>=1.13.3 in c:\\users\\tomas\\.virtualenvs\\satalia-beer-test-bnawxm2y\\lib\\site-packages (from pandas) (1.17.4)\n",
      "Requirement already satisfied: pytz>=2017.2 in c:\\users\\tomas\\.virtualenvs\\satalia-beer-test-bnawxm2y\\lib\\site-packages (from pandas) (2019.3)\n",
      "Requirement already satisfied: six>=1.5 in c:\\users\\tomas\\.virtualenvs\\satalia-beer-test-bnawxm2y\\lib\\site-packages (from python-dateutil>=2.6.1->pandas) (1.13.0)\n"
     ]
    }
   ],
   "source": [
    "!pip install pandas"
   ]
  },
  {
   "cell_type": "code",
   "execution_count": 26,
   "metadata": {},
   "outputs": [],
   "source": [
    "import pandas as pd\n",
    "import sqlite3\n",
    "from math import radians, cos, sin, asin, sqrt"
   ]
  },
  {
   "cell_type": "code",
   "execution_count": 27,
   "metadata": {},
   "outputs": [],
   "source": [
    "beers_df = pd.read_csv('beers.csv', index_col=1)\n",
    "breweries_df = pd.read_csv('breweries.csv', index_col=0)\n",
    "geocodes_df = pd.read_csv('geocodes.csv', index_col=1)\n",
    "conn = sqlite3.connect('beer.db')\n",
    "c = conn.cursor()"
   ]
  },
  {
   "cell_type": "code",
   "execution_count": 28,
   "metadata": {},
   "outputs": [],
   "source": [
    "def haversine(lat1, lon1, lat2, lon2):\n",
    "    \"\"\"\n",
    "    Calculate the great circle distance between two points\n",
    "    on the earth (specified in decimal degrees)\n",
    "    \"\"\"\n",
    "    # convert decimal degrees to radians\n",
    "    lon1, lat1, lon2, lat2 = map(radians, [lon1, lat1, lon2, lat2])\n",
    "\n",
    "    # haversine formula\n",
    "    dlon = lon2 - lon1\n",
    "    dlat = lat2 - lat1\n",
    "    a = sin(dlat/2)**2 + cos(lat1) * cos(lat2) * sin(dlon/2)**2\n",
    "    c = 2 * asin(sqrt(a))\n",
    "    r = 6371 # Radius of earth in kilometers.\n",
    "    return int(c * r)"
   ]
  },
  {
   "cell_type": "code",
   "execution_count": 91,
   "metadata": {},
   "outputs": [],
   "source": [
    "def main(lati, longi):\n",
    "\n",
    "    start_lat = lati\n",
    "    start_lon = longi\n",
    "\n",
    "    lat = start_lat\n",
    "    lon = start_lon\n",
    "    current_min = 0\n",
    "    haversine_df = pd.DataFrame()#columns='haversine')\n",
    "    travel_list = []\n",
    "    travel_list_sum = 0\n",
    "    distance_to_start = 0\n",
    "    already_visited = []\n",
    "    isComplete = True\n",
    "#     print(geocodes_df['latitude'][307])\n",
    "    \n",
    "#     haversine_df.concat([pd.DataFrame([i], columns=['haversine']) for i in range(5)],ignore_index=True)\n",
    "#     for i in range(5):\n",
    "#         df = df.append({'A': i}, ignore_index=True)\n",
    "        \n",
    "    for index, row in geocodes_df.iterrows():\n",
    "        haversine_df.append({'brewery_id':row[0]}, ignore_index=True)\n",
    "        #print(row[0], row[1], row[2])\n",
    "    print(haversine_df)\n",
    "#     haversine_df.append(haversine(float(lat), float(lon), float(geocodes_df['latitude'][307]), float(geocodes_df['longitude'][307])), 307)\n",
    "#     print(haversine_df)\n",
    "    \n",
    "#     while isComplete:\n",
    "#         for id, lat1, lon1 in c.execute(\"SELECT brewery_id, latitude, longitude FROM geocodes\"):\n",
    "#             if id not in already_visited:\n",
    "#                 haversine_df.append([haversine(float(lat), float(lon), float(lat1), float(lon1)), id])\n",
    "#             else:\n",
    "#                 continue\n",
    "#         current_min = sorted(haversine_list)[0] #optimize(haversine_list)\n",
    "#         lat = geocodes_df.loc[geocodes_df.index.intersection(current_min[1])]\n",
    "#         #lat = geocodes_df[['latitude', current_min[1]]]\n",
    "#         lon = geocodes_df.loc[[current_min[1], 'longitude']]\n",
    "#         #lon = geocodes_df[['longitude', current_min[1]]]\n",
    "#         print(lat, lon)\n",
    "#         already_visited.append(current_min[1])\n",
    "#         distance_to_start = haversine(float(lat), float(lon), float(start_lat), float(start_lon))\n",
    "\n",
    "#         #Add current location to the travel list\n",
    "#         if (travel_list_sum + current_min[0] + distance_to_start) < 2000:\n",
    "#             travel_list.append(current_min)\n",
    "#             sum = 0\n",
    "#             for hav, id in travel_list:\n",
    "#                 sum+=hav\n",
    "#             travel_list_sum = sum\n",
    "#         else:\n",
    "#             break\n",
    "#         haversine_df = pd.DataFrame()\n",
    "#         isComplete = False\n",
    "    print('done')"
   ]
  },
  {
   "cell_type": "code",
   "execution_count": 92,
   "metadata": {},
   "outputs": [
    {
     "name": "stdout",
     "output_type": "stream",
     "text": [
      "Empty DataFrame\n",
      "Columns: []\n",
      "Index: []\n",
      "done\n"
     ]
    }
   ],
   "source": [
    "main(51.355468, 11.100790)"
   ]
  },
  {
   "cell_type": "code",
   "execution_count": null,
   "metadata": {},
   "outputs": [],
   "source": []
  },
  {
   "cell_type": "code",
   "execution_count": null,
   "metadata": {},
   "outputs": [],
   "source": []
  },
  {
   "cell_type": "code",
   "execution_count": null,
   "metadata": {},
   "outputs": [],
   "source": []
  }
 ],
 "metadata": {
  "kernelspec": {
   "display_name": "Python 3",
   "language": "python",
   "name": "python3"
  },
  "language_info": {
   "codemirror_mode": {
    "name": "ipython",
    "version": 3
   },
   "file_extension": ".py",
   "mimetype": "text/x-python",
   "name": "python",
   "nbconvert_exporter": "python",
   "pygments_lexer": "ipython3",
   "version": "3.7.3"
  }
 },
 "nbformat": 4,
 "nbformat_minor": 2
}
