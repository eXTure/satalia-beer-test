{
 "cells": [
  {
   "cell_type": "code",
   "execution_count": 2,
   "metadata": {},
   "outputs": [
    {
     "name": "stdout",
     "output_type": "stream",
     "text": [
      "Requirement already satisfied: pandas in c:\\users\\tomas\\.virtualenvs\\satalia-beer-test-bnawxm2y\\lib\\site-packages (0.25.3)\n",
      "Requirement already satisfied: python-dateutil>=2.6.1 in c:\\users\\tomas\\.virtualenvs\\satalia-beer-test-bnawxm2y\\lib\\site-packages (from pandas) (2.8.1)\n",
      "Requirement already satisfied: pytz>=2017.2 in c:\\users\\tomas\\.virtualenvs\\satalia-beer-test-bnawxm2y\\lib\\site-packages (from pandas) (2019.3)\n",
      "Requirement already satisfied: numpy>=1.13.3 in c:\\users\\tomas\\.virtualenvs\\satalia-beer-test-bnawxm2y\\lib\\site-packages (from pandas) (1.17.4)\n",
      "Requirement already satisfied: six>=1.5 in c:\\users\\tomas\\.virtualenvs\\satalia-beer-test-bnawxm2y\\lib\\site-packages (from python-dateutil>=2.6.1->pandas) (1.13.0)\n"
     ]
    }
   ],
   "source": [
    "!pip install pandas"
   ]
  },
  {
   "cell_type": "code",
   "execution_count": 3,
   "metadata": {},
   "outputs": [],
   "source": [
    "import pandas as pd\n",
    "import sqlite3\n",
    "from math import radians, cos, sin, asin, sqrt"
   ]
  },
  {
   "cell_type": "code",
   "execution_count": 87,
   "metadata": {},
   "outputs": [],
   "source": [
    "beers_df = pd.read_csv('beers.csv', index_col=0)\n",
    "breweries_df = pd.read_csv('breweries.csv', index_col=0)\n",
    "geocodes_df = pd.read_csv('geocodes.csv', index_col=0)\n",
    "geocodes_df['Visited']=False"
   ]
  },
  {
   "cell_type": "code",
   "execution_count": 27,
   "metadata": {},
   "outputs": [],
   "source": [
    "def haversine(lat1, lon1, lat2, lon2):\n",
    "    \"\"\"\n",
    "    Calculate the great circle distance between two points\n",
    "    on the earth (specified in decimal degrees)\n",
    "    \"\"\"\n",
    "    # convert decimal degrees to radians\n",
    "    lon1, lat1, lon2, lat2 = map(radians, [lon1, lat1, lon2, lat2])\n",
    "\n",
    "    # haversine formula\n",
    "    dlon = lon2 - lon1\n",
    "    dlat = lat2 - lat1\n",
    "    a = sin(dlat/2)**2 + cos(lat1) * cos(lat2) * sin(dlon/2)**2\n",
    "    c = 2 * asin(sqrt(a))\n",
    "    r = 6371 # Radius of earth in kilometers.\n",
    "    return int(c * r)"
   ]
  },
  {
   "cell_type": "code",
   "execution_count": 78,
   "metadata": {},
   "outputs": [],
   "source": [
    "def magic(x, lat, lon):\n",
    "    \"\"\"Calculate distance based on 2 coordinates\"\"\"\n",
    "    if x.Visited==False:\n",
    "        distance = haversine(lat, lon, x.latitude, x.longitude)\n",
    "    else:\n",
    "        distance = None\n",
    "    return distance"
   ]
  },
  {
   "cell_type": "code",
   "execution_count": 29,
   "metadata": {},
   "outputs": [
    {
     "data": {
      "text/plain": [
       "array([51.26150131225586, 9.449399948120117], dtype=object)"
      ]
     },
     "execution_count": 29,
     "metadata": {},
     "output_type": "execute_result"
    }
   ],
   "source": [
    "geocodes_df.loc[639, ['latitude', 'longitude']].values"
   ]
  },
  {
   "cell_type": "code",
   "execution_count": 88,
   "metadata": {},
   "outputs": [],
   "source": [
    "def main(lati, longi):\n",
    "\n",
    "    start_lat = lati\n",
    "    start_lon = longi\n",
    "\n",
    "    lat = start_lat\n",
    "    lon = start_lon\n",
    "    current_min = 0\n",
    "    haversine_df = pd.DataFrame()\n",
    "    travel_list = []\n",
    "    travel_list_sum = 0\n",
    "    current_distance = 0\n",
    "    total_distance = 0\n",
    "    isComplete = True\n",
    "    \n",
    "    while isComplete:\n",
    "        haversine_df = geocodes_df.apply(magic, args=(lat, lon), axis=1)\n",
    "        min_id = haversine_df.idxmin(skipna=True)\n",
    "        travel_list.append(min_id)\n",
    "        geocodes_df.loc[min_id, 'Visited']=True\n",
    "        lat, lon = geocodes_df.loc[min_id, ['latitude', 'longitude']]\n",
    "        distance_to_start = haversine(start_lat, start_lon, lat, lon)\n",
    "        current_distance+=haversine_df[min_id]\n",
    "        total_distance = distance_to_start + current_distance\n",
    "        if total_distance>=2000:\n",
    "            isComplete = False\n",
    "\n",
    "#         #Add current location to the travel list\n",
    "#         if (travel_list_sum + current_min[0] + distance_to_start) < 2000:\n",
    "#             travel_list.append(current_min)\n",
    "#             sum = 0\n",
    "#             for hav, id in travel_list:\n",
    "#                 sum+=hav\n",
    "#             travel_list_sum = sum\n",
    "#         else:\n",
    "#             break\n",
    "#         haversine_df = pd.DataFrame()\n",
    "    print(travel_list, total_distance, distance_to_start)"
   ]
  },
  {
   "cell_type": "code",
   "execution_count": 89,
   "metadata": {},
   "outputs": [
    {
     "name": "stdout",
     "output_type": "stream",
     "text": [
      "[287, 288, 936, 902, 210, 198, 220, 1054, 197] 2007.0 845\n"
     ]
    }
   ],
   "source": [
    "main(52.527672, 23.693345)"
   ]
  },
  {
   "cell_type": "code",
   "execution_count": null,
   "metadata": {},
   "outputs": [],
   "source": []
  }
 ],
 "metadata": {
  "kernelspec": {
   "display_name": "Python 3",
   "language": "python",
   "name": "python3"
  },
  "language_info": {
   "codemirror_mode": {
    "name": "ipython",
    "version": 3
   },
   "file_extension": ".py",
   "mimetype": "text/x-python",
   "name": "python",
   "nbconvert_exporter": "python",
   "pygments_lexer": "ipython3",
   "version": "3.7.3"
  }
 },
 "nbformat": 4,
 "nbformat_minor": 2
}
